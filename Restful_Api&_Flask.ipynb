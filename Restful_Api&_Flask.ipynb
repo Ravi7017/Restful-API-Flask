{
  "nbformat": 4,
  "nbformat_minor": 0,
  "metadata": {
    "colab": {
      "provenance": []
    },
    "kernelspec": {
      "name": "python3",
      "display_name": "Python 3"
    },
    "language_info": {
      "name": "python"
    }
  },
  "cells": [
    {
      "cell_type": "markdown",
      "source": [
        "#Q1. What is a RESTful API\n",
        "\n",
        "-A RESTful API (Representational State Transfer API) is a web service that follows the principles of REST architecture to allow communication between a client (like a web or mobile app) and a server over the HTTP protocol."
      ],
      "metadata": {
        "id": "F_5jNiyJdpPL"
      }
    },
    {
      "cell_type": "markdown",
      "source": [
        "#Q2. Explain the concept of API specification.\n",
        "\n",
        "-An API specification is a formal, structured document that describes how an API behaves, including:\n",
        "\n",
        "What endpoints are available\n",
        "\n",
        "What methods (GET, POST, etc.) are allowed\n",
        "\n",
        "What request parameters are required\n",
        "\n",
        "What responses are expected\n",
        "\n",
        "What data formats (JSON, XML) are used\n",
        "\n",
        "Authentication/authorization requirements"
      ],
      "metadata": {
        "id": "dj2GPeizeOnh"
      }
    },
    {
      "cell_type": "markdown",
      "source": [
        "#Q3.What is Flask, and why is it popular for building APIs\n",
        "\n",
        "-Flask is a lightweight web framework written in Python that’s used to build web applications and APIs. It’s known for being:\n",
        "\n",
        "Minimalistic – provides only the essentials\n",
        "\n",
        "Flexible – lets you choose your own tools and libraries\n",
        "\n",
        "Easy to learn – great for beginners and rapid development\n",
        "\n",
        "It was created by Armin Ronacher and is part of the Pallets project."
      ],
      "metadata": {
        "id": "euxY_x5qeurU"
      }
    },
    {
      "cell_type": "markdown",
      "source": [
        "#Q4. What is routing in Flask\n",
        "\n",
        "-Routing in Flask is the process of mapping URLs (web addresses) to Python functions that handle requests and return responses. These functions are called view functions.\n",
        "\n",
        "In simpler terms:\n",
        "\n",
        "Routing defines how your Flask app responds to different web requests."
      ],
      "metadata": {
        "id": "FbDPKDSIe_md"
      }
    },
    {
      "cell_type": "markdown",
      "source": [
        "#Q5. How do you create a simple Flask application\n",
        "\n",
        "-Creating a simple Flask application is easy and can be done in just a few lines of code. Here's a complete step-by-step guide to create and run a basic Flask app.pip install flask\n"
      ],
      "metadata": {
        "id": "z4Yjn8LNfQoy"
      }
    },
    {
      "cell_type": "markdown",
      "source": [
        "#Q6. What are HTTP methods used in RESTful APIs\n",
        "\n",
        "-RESTful APIs use standard HTTP methods (verbs) to perform actions on resources (like users, posts, products). These methods follow the principles of CRUD (Create, Read, Update, Delete)."
      ],
      "metadata": {
        "id": "A1XpPF0QfwQX"
      }
    },
    {
      "cell_type": "markdown",
      "source": [
        "#Q7. What is the purpose of the @app.route() decorator in Flask\n",
        "\n",
        "-The @app.route() decorator in Flask is used to bind a specific URL path to a view function. This tells Flask:\n",
        "\n",
        "“When someone visits this URL, run this function and return its output as the response.”\n",
        "\n"
      ],
      "metadata": {
        "id": "R4LeHd7hf_B_"
      }
    },
    {
      "cell_type": "markdown",
      "source": [
        "#Q8. What is the difference between GET and POST HTTP methods\n",
        "\n",
        "-The GET and POST methods are the two most commonly used HTTP request types in RESTful APIs and web applications. They serve different purposes and behave differently.\n",
        "\n",
        "Method\tPurpose\n",
        "GET -\tRetrieve data from the server\n",
        "\n",
        "Method\tPurpose\n",
        "\n",
        "POST\t-Send data to the server to create or process something\n"
      ],
      "metadata": {
        "id": "vUTMG2i-gRke"
      }
    },
    {
      "cell_type": "markdown",
      "source": [
        "#Q9. How do you handle errors in Flask APIs\n",
        "\n",
        "-Handling errors gracefully in a Flask API improves user experience, debugging, and security. Flask provides multiple ways to handle errors using:\n",
        "\n",
        "try-except blocks\n",
        "\n",
        "abort() function\n",
        "\n",
        "@app.errorhandler decorators\n",
        "\n",
        "Custom JSON error responses\n",
        "\n"
      ],
      "metadata": {
        "id": "ndvUuEw-g_Cl"
      }
    },
    {
      "cell_type": "markdown",
      "source": [
        "#Q10. How do you connect Flask to a SQL database\n",
        "\n",
        "-To connect a Flask application to a SQL database, you typically use Flask-SQLAlchemy, which is a Flask extension that integrates SQLAlchemy (a powerful Python ORM) with Flask."
      ],
      "metadata": {
        "id": "vvDdgx9ahOUe"
      }
    },
    {
      "cell_type": "markdown",
      "source": [
        "#Q11 What is the role of Flask-SQLAlchemy\n",
        "\n",
        "-Flask-SQLAlchemy is a Flask extension that integrates SQLAlchemy (a powerful SQL toolkit and Object-Relational Mapper—ORM) with Flask.\n",
        "\n",
        "It provides a high-level, Pythonic way to interact with SQL databases, making it easier to:\n",
        "\n",
        "Define database models (tables)\n",
        "\n",
        "Execute queries\n",
        "\n",
        "Perform CRUD operations (Create, Read, Update, Delete)\n",
        "\n",
        "Manage database sessions\n",
        "\n",
        "Handle migrations with tools like Flask-Migrate\n",
        "\n",
        "\n",
        "\n",
        "\n",
        "\n",
        "\n",
        "\n",
        "\n",
        "\n"
      ],
      "metadata": {
        "id": "uqQZJ-b_hkjw"
      }
    },
    {
      "cell_type": "markdown",
      "source": [
        "#Q12. What are Flask blueprints, and how are they useful\n",
        "\n",
        "-Flask Blueprints are a way to organize your Flask application into modular, reusable components. They let you define parts of your app (like routes, error handlers, templates, static files) in separate files, then register them with the main app.\n",
        "\n",
        "Think of a blueprint as a \"mini app\" within your main app — ideal for large applications or collaborative development.\n",
        "\n",
        "Benefit  -\tExplanation\n",
        "Modular   -structure\tSplit your app into separate features or sections (e.g., auth, admin, API)\n",
        "\n",
        "Reusability-\tYou can reuse blueprints across multiple projects\n",
        "\n",
        "clean codebase\t-Keeps your codebase organized and maintainable"
      ],
      "metadata": {
        "id": "YKOlnNwEiZn0"
      }
    },
    {
      "cell_type": "markdown",
      "source": [
        "#Q13. What is the purpose of Flask's request object\n",
        "\n",
        "-The request object in Flask is used to access data sent by the client to the server in an HTTP request.\n",
        "\n",
        "It allows you to retrieve:\n",
        "\n",
        "Query parameters (from URL)\n",
        "\n",
        "Form data (from HTML forms)\n",
        "\n",
        "JSON payload (from API requests)\n",
        "\n",
        "HTTP headers\n",
        "\n",
        "Cookies\n",
        "\n"
      ],
      "metadata": {
        "id": "USoGBwUDjT8K"
      }
    },
    {
      "cell_type": "markdown",
      "source": [
        "#Q14. How do you create a RESTful API endpoint using Flask\n",
        "\n",
        "-Creating a RESTful API in Flask involves:\n",
        "\n",
        "Defining a route with @app.route()\n",
        "\n",
        "Specifying HTTP methods (GET, POST, PUT, DELETE, etc.)\n",
        "\n",
        "Using Flask’s request and jsonify to process requests and return JSON responses\n",
        "\n"
      ],
      "metadata": {
        "id": "lQykZvhyjllw"
      }
    },
    {
      "cell_type": "markdown",
      "source": [
        "#Q15. What is the purpose of Flask's jsonify() function\n",
        "\n",
        "\n",
        "-The jsonify() function in Flask is used to convert Python data (like dictionaries or lists) into a proper JSON response, which is the standard format for data exchange in RESTful APIs.\n",
        "\n",
        "It also automatically sets the correct Content-Type header (application/json), making it easier and safer to return JSON from your Flask routes.\n",
        "\n"
      ],
      "metadata": {
        "id": "aE9d-bu2j8T1"
      }
    },
    {
      "cell_type": "markdown",
      "source": [
        "#Q16. Explain Flask’s url_for() function\n",
        "\n",
        "-Flask's url_for() function is used to build a URL to a specific function (usually a view function) based on its name, rather than hardcoding the URL path. This makes your application more maintainable, especially when URLs change.\n",
        "\n"
      ],
      "metadata": {
        "id": "3onOdArwnqkK"
      }
    },
    {
      "cell_type": "markdown",
      "source": [
        "#Q17. How does Flask handle static files (CSS, JavaScript, etc.)\n",
        "\n",
        "\n",
        "-Flask handles static files (like CSS, JavaScript, images, etc.) using a dedicated static folder in your project directory. It automatically serves files from this folder at the URL path /static/."
      ],
      "metadata": {
        "id": "6Bl_zo7So_GL"
      }
    },
    {
      "cell_type": "markdown",
      "source": [
        "#Q18. What is an API specification, and how does it help in building a Flask APi\n",
        "\n",
        "-An API specification is a detailed, structured description of how an API works — what endpoints it has, what data it expects, what responses it returns, and how errors are handled.\n",
        "\n",
        "It's like a blueprint or contract that tells developers:\n",
        "\n",
        "What routes are available\n",
        "\n",
        "What request methods (GET, POST, etc.) to use\n",
        "\n",
        "What input parameters are needed\n",
        "\n",
        "What output to expect (response format)\n",
        "\n"
      ],
      "metadata": {
        "id": "X9Z4LdcApMxM"
      }
    },
    {
      "cell_type": "markdown",
      "source": [
        "#Q19. What are HTTP status codes, and why are they important in a Flask API\n",
        "\n",
        "-HTTP status codes are standardized 3-digit numbers that a server sends in response to a client’s HTTP request. They indicate the result of the request — whether it was successful, failed, redirected, or had a server error.\n",
        "\n",
        "\n",
        " .Communicate result\tThey tell the client what happened (success, failure, etc.)\n",
        "\n",
        "\n",
        " .Help debugging\tClients can handle different codes differently (e.g., retry on 503)\n",
        "\n",
        "\n",
        " .Improve clarity\tMakes your API behave predictably and follow web standards\n",
        "\n",
        ".Support REST principles\tRESTful APIs rely on meaningful status codes\n"
      ],
      "metadata": {
        "id": "Z5Qhj1nfpcL6"
      }
    },
    {
      "cell_type": "markdown",
      "source": [
        "#Q20. How do you handle POST requests in Flask\n",
        "\n",
        "-In Flask, POST requests are handled by:\n",
        "\n",
        "Defining a route with methods=['POST']\n",
        "\n",
        "Accessing the submitted data using the request object\n",
        "\n"
      ],
      "metadata": {
        "id": "-767W4W3qFVE"
      }
    },
    {
      "cell_type": "markdown",
      "source": [
        "#Q21. How would you secure a Flask API\n",
        "\n",
        "-Securing a Flask API involves protecting it from unauthorized access, data leaks, injection attacks, and abuse. Below are key strategies to secure a Flask API:\n",
        "\n",
        "Ensure only valid users can access the API.\n",
        "\n",
        "Token-based Auth (JWT):\n",
        "\n",
        "Clients include a JSON Web Token in headers.\n",
        "\n",
        "Validate using libraries like PyJWT, Flask-JWT-Extended.\n",
        "\n",
        "\n"
      ],
      "metadata": {
        "id": "sMBJWH2PqV7-"
      }
    },
    {
      "cell_type": "markdown",
      "source": [
        "#Q22. What is the significance of the Flask-RESTful extension\n",
        "\n",
        "-Flask-RESTful is an extension for Flask that helps you build RESTful APIs more easily and cleanly. It provides tools to organize your API into resources, handle routing, request parsing, and formatting responses — all while following REST conventions."
      ],
      "metadata": {
        "id": "fKYgK7wtq2ih"
      }
    },
    {
      "cell_type": "markdown",
      "source": [
        "#Q23. What is the role of Flask’s session object?\n",
        "\n",
        "-The session object in Flask is used to store data across multiple requests from the same client (browser). It's essentially a way to remember user-specific data — like login status, shopping cart contents, or preferences — during a user's visit to your site or API.\n",
        "\n"
      ],
      "metadata": {
        "id": "5MxhXThGrB3x"
      }
    },
    {
      "cell_type": "code",
      "source": [
        "#Q1 How do you create a basic Flask application\n",
        "\n",
        "from flask import Flask\n",
        "\n",
        "# Create Flask app\n",
        "app = Flask(__name__)\n",
        "\n",
        "# Define a route\n",
        "@app.route('/')\n",
        "def home():\n",
        "    return \"Hello, Flask!\"\n",
        "\n",
        "# Run the app\n",
        "if __name__ == '__main__':\n",
        "    app.run(debug=True)\n",
        "\n",
        ""
      ],
      "metadata": {
        "colab": {
          "base_uri": "https://localhost:8080/"
        },
        "id": "L-pskzqIrNnt",
        "outputId": "7b459e0c-9dea-48e4-dd4d-5516afc821c5"
      },
      "execution_count": 1,
      "outputs": [
        {
          "output_type": "stream",
          "name": "stdout",
          "text": [
            " * Serving Flask app '__main__'\n",
            " * Debug mode: on\n"
          ]
        },
        {
          "output_type": "stream",
          "name": "stderr",
          "text": [
            "INFO:werkzeug:\u001b[31m\u001b[1mWARNING: This is a development server. Do not use it in a production deployment. Use a production WSGI server instead.\u001b[0m\n",
            " * Running on http://127.0.0.1:5000\n",
            "INFO:werkzeug:\u001b[33mPress CTRL+C to quit\u001b[0m\n",
            "INFO:werkzeug: * Restarting with stat\n"
          ]
        }
      ]
    },
    {
      "cell_type": "code",
      "source": [
        "#Q2. How do you serve static files like images or CSS in Flask\n",
        "from flask import Flask, send_from_directory\n",
        "\n",
        "app = Flask(__name__)\n",
        "\n",
        "@app.route('/static/<path:filename>')\n",
        "def serve_static(filename):\n",
        "    return send_from_directory('static', filename)\n",
        "\n",
        "from flask import Flask, render_template\n",
        "\n",
        "app = Flask(__name__)\n",
        "\n",
        "@app.route('/')\n",
        "def home():\n",
        "    return render_template('index.html')\n",
        "\n",
        "if __name__ == '__main__':\n",
        "    app.run(debug=True)"
      ],
      "metadata": {
        "colab": {
          "base_uri": "https://localhost:8080/"
        },
        "id": "wS8SOfETsOLM",
        "outputId": "bcdcf6fc-06b8-4565-a65c-ec6282f90769"
      },
      "execution_count": 3,
      "outputs": [
        {
          "output_type": "stream",
          "name": "stdout",
          "text": [
            " * Serving Flask app '__main__'\n",
            " * Debug mode: on\n"
          ]
        },
        {
          "output_type": "stream",
          "name": "stderr",
          "text": [
            "INFO:werkzeug:\u001b[31m\u001b[1mWARNING: This is a development server. Do not use it in a production deployment. Use a production WSGI server instead.\u001b[0m\n",
            " * Running on http://127.0.0.1:5000\n",
            "INFO:werkzeug:\u001b[33mPress CTRL+C to quit\u001b[0m\n",
            "INFO:werkzeug: * Restarting with stat\n"
          ]
        }
      ]
    },
    {
      "cell_type": "code",
      "source": [
        "#Q3. How do you define different routes with different HTTP methods in Flask\n",
        "\n",
        "from flask import Flask, request, jsonify\n",
        "\n",
        "app = Flask(__name__)\n",
        "\n",
        "@app.route('/example', methods=['GET'])\n",
        "def get_example():\n",
        "    return \"This is a GET request\"\n",
        "\n",
        "@app.route('/example', methods=['POST'])\n",
        "def post_example():\n",
        "    data = request.get_json()\n",
        "    return jsonify({\"message\": \"Data received\", \"data\": data}), 201\n",
        "\n",
        "@app.route('/example', methods=['PUT'])\n",
        "def put_example():\n",
        "    return \"This is a PUT request\"\n",
        "\n",
        "@app.route('/example', methods=['DELETE'])\n",
        "def delete_example():\n",
        "    return \"This is a DELETE request\", 204\n",
        "\n",
        "if __name__ == '__main__':\n",
        "    app.run(debug=True)"
      ],
      "metadata": {
        "colab": {
          "base_uri": "https://localhost:8080/"
        },
        "id": "G4wCkmi6uqZX",
        "outputId": "be81ba8f-3dc3-4d3d-eec5-8108f70780ff"
      },
      "execution_count": 6,
      "outputs": [
        {
          "output_type": "stream",
          "name": "stdout",
          "text": [
            " * Serving Flask app '__main__'\n",
            " * Debug mode: on\n"
          ]
        },
        {
          "output_type": "stream",
          "name": "stderr",
          "text": [
            "INFO:werkzeug:\u001b[31m\u001b[1mWARNING: This is a development server. Do not use it in a production deployment. Use a production WSGI server instead.\u001b[0m\n",
            " * Running on http://127.0.0.1:5000\n",
            "INFO:werkzeug:\u001b[33mPress CTRL+C to quit\u001b[0m\n",
            "INFO:werkzeug: * Restarting with stat\n"
          ]
        }
      ]
    },
    {
      "cell_type": "code",
      "source": [
        "#Q4. How do you render HTML templates in Flask\n",
        "\n",
        "from flask import Flask, render_template\n",
        "\n",
        "app = Flask(__name__)\n",
        "\n",
        "@app.route('/')\n",
        "def home():\n",
        "    return render_template('index.html', name=\"Ravi\")\n",
        "\n",
        "if __name__ == '__main__':\n",
        "    app.run(debug=True)"
      ],
      "metadata": {
        "colab": {
          "base_uri": "https://localhost:8080/"
        },
        "id": "97IHJFcsvA2o",
        "outputId": "bcc92077-35d2-469c-d145-2b0265abf94b"
      },
      "execution_count": 7,
      "outputs": [
        {
          "output_type": "stream",
          "name": "stdout",
          "text": [
            " * Serving Flask app '__main__'\n",
            " * Debug mode: on\n"
          ]
        },
        {
          "output_type": "stream",
          "name": "stderr",
          "text": [
            "INFO:werkzeug:\u001b[31m\u001b[1mWARNING: This is a development server. Do not use it in a production deployment. Use a production WSGI server instead.\u001b[0m\n",
            " * Running on http://127.0.0.1:5000\n",
            "INFO:werkzeug:\u001b[33mPress CTRL+C to quit\u001b[0m\n",
            "INFO:werkzeug: * Restarting with stat\n"
          ]
        }
      ]
    },
    {
      "cell_type": "code",
      "source": [
        "#Q5.How can you generate URLs for routes in Flask using url_for\n",
        "\n",
        "from flask import Flask, url_for, redirect\n",
        "\n",
        "app = Flask(__name__)\n",
        "\n",
        "@app.route('/')\n",
        "def home():\n",
        "    return \"Home Page\"\n",
        "\n",
        "@app.route('/about')\n",
        "def about():\n",
        "    return \"About Page\"\n",
        "\n",
        "@app.route('/go-to-about')\n",
        "def go_to_about():\n",
        "    return redirect(url_for('about'))\n"
      ],
      "metadata": {
        "id": "SoTtGyY5wTX4"
      },
      "execution_count": 9,
      "outputs": []
    },
    {
      "cell_type": "code",
      "source": [
        "#Q6 How do you handle forms in Flask\n",
        "\n",
        "\n",
        "from flask import Flask, render_template, request\n",
        "\n",
        "app = Flask(__name__)\n",
        "\n",
        "@app.route('/')\n",
        "def form():\n",
        "    return render_template('form.html')\n",
        "\n",
        "@app.route('/submit', methods=['POST'])\n",
        "def submit():\n",
        "    name = request.form['name']\n",
        "    return render_template('result.html', name=name)\n",
        "\n",
        "if __name__ == '__main__':\n",
        "    app.run(debug=True)"
      ],
      "metadata": {
        "colab": {
          "base_uri": "https://localhost:8080/"
        },
        "id": "YyXtQLA7woEX",
        "outputId": "50c8f940-44c8-4332-c356-2ad497e8cb32"
      },
      "execution_count": 10,
      "outputs": [
        {
          "output_type": "stream",
          "name": "stdout",
          "text": [
            " * Serving Flask app '__main__'\n",
            " * Debug mode: on\n"
          ]
        },
        {
          "output_type": "stream",
          "name": "stderr",
          "text": [
            "INFO:werkzeug:\u001b[31m\u001b[1mWARNING: This is a development server. Do not use it in a production deployment. Use a production WSGI server instead.\u001b[0m\n",
            " * Running on http://127.0.0.1:5000\n",
            "INFO:werkzeug:\u001b[33mPress CTRL+C to quit\u001b[0m\n",
            "INFO:werkzeug: * Restarting with stat\n"
          ]
        }
      ]
    },
    {
      "cell_type": "code",
      "source": [
        "#Q7. How can you validate form data in Flask\n",
        "\n",
        "from flask import Flask, request, render_template, flash, redirect, url_for\n",
        "\n",
        "app = Flask(__name__)\n",
        "app.secret_key = 'your_secret_key'  # Needed for flash messages\n",
        "\n",
        "@app.route('/', methods=['GET', 'POST'])\n",
        "def register():\n",
        "    if request.method == 'POST':\n",
        "        username = request.form.get('username')\n",
        "        email = request.form.get('email')\n",
        "\n",
        "        # Simple validation\n",
        "        if not username or not email:\n",
        "            flash(\"All fields are required!\", \"error\")\n",
        "            return redirect(url_for('register'))\n",
        "\n",
        "        if '@' not in email:\n",
        "            flash(\"Invalid email address!\", \"error\")\n",
        "            return redirect(url_for('register'))\n",
        "\n",
        "        return f\"Welcome, {username}!\"\n",
        "\n",
        "    return render_template('form.html')\n"
      ],
      "metadata": {
        "id": "tms5Zs3Nw6S-"
      },
      "execution_count": 11,
      "outputs": []
    },
    {
      "cell_type": "code",
      "source": [
        "#Q8.How do you manage sessions in Flask\n",
        "\n",
        "from flask import Flask, session, redirect, url_for, request, render_template\n",
        "\n",
        "app = Flask(__name__)\n",
        "app.secret_key = 'your_secret_key'  # Required to use sessions\n",
        "\n",
        "@app.route('/')\n",
        "def index():\n",
        "    if 'username' in session:\n",
        "        return f\"Logged in as {session['username']} <br><a href='/logout'>Logout</a>\"\n",
        "    return \"You are not logged in <br><a href='/login'>Login</a>\"\n",
        "\n",
        "@app.route('/login', methods=['GET', 'POST'])\n",
        "def login():\n",
        "    if request.method == 'POST':\n",
        "        session['username'] = request.form['username']\n",
        "        return redirect(url_for('index'))\n",
        "    return '''\n",
        "        <form method=\"post\">\n",
        "            <input type=\"text\" name=\"username\" placeholder=\"Enter username\">\n",
        "            <input type=\"submit\" value=\"Login\">\n",
        "        </form>\n",
        "    '''\n",
        "\n",
        "@app.route('/logout')\n",
        "def logout():\n",
        "    session.pop('username', None)\n",
        "    return redirect(url_for('index'))\n",
        "\n",
        "if __name__ == '__main__':\n",
        "    app.run(debug=True)"
      ],
      "metadata": {
        "colab": {
          "base_uri": "https://localhost:8080/"
        },
        "id": "uIS3y_QKxNn-",
        "outputId": "e8efaf3c-17c4-4f47-fc51-4e36fc5bd0be"
      },
      "execution_count": 12,
      "outputs": [
        {
          "output_type": "stream",
          "name": "stdout",
          "text": [
            " * Serving Flask app '__main__'\n",
            " * Debug mode: on\n"
          ]
        },
        {
          "output_type": "stream",
          "name": "stderr",
          "text": [
            "INFO:werkzeug:\u001b[31m\u001b[1mWARNING: This is a development server. Do not use it in a production deployment. Use a production WSGI server instead.\u001b[0m\n",
            " * Running on http://127.0.0.1:5000\n",
            "INFO:werkzeug:\u001b[33mPress CTRL+C to quit\u001b[0m\n",
            "INFO:werkzeug: * Restarting with stat\n"
          ]
        }
      ]
    },
    {
      "cell_type": "code",
      "source": [
        "#Q9. How do you redirect to a different route in Flask\n",
        "\n",
        "from flask import Flask, redirect, url_for\n",
        "\n",
        "app = Flask(__name__)\n",
        "\n",
        "@app.route('/')\n",
        "def home():\n",
        "    return \"Home Page\"\n",
        "\n",
        "@app.route('/login')\n",
        "def login():\n",
        "    return \"Login Page\"\n",
        "\n",
        "@app.route('/go-to-login')\n",
        "def go_to_login():\n",
        "    # Redirect to the login route\n",
        "    return redirect(url_for('login'))\n",
        "\n",
        "if __name__ == '__main__':\n",
        "    app.run(debug=True)"
      ],
      "metadata": {
        "colab": {
          "base_uri": "https://localhost:8080/"
        },
        "id": "-k2_tqg9xmUX",
        "outputId": "5d4b20fa-ed3a-482a-8c2c-00e3867eeab9"
      },
      "execution_count": 13,
      "outputs": [
        {
          "output_type": "stream",
          "name": "stdout",
          "text": [
            " * Serving Flask app '__main__'\n",
            " * Debug mode: on\n"
          ]
        },
        {
          "output_type": "stream",
          "name": "stderr",
          "text": [
            "INFO:werkzeug:\u001b[31m\u001b[1mWARNING: This is a development server. Do not use it in a production deployment. Use a production WSGI server instead.\u001b[0m\n",
            " * Running on http://127.0.0.1:5000\n",
            "INFO:werkzeug:\u001b[33mPress CTRL+C to quit\u001b[0m\n",
            "INFO:werkzeug: * Restarting with stat\n"
          ]
        }
      ]
    },
    {
      "cell_type": "code",
      "source": [
        "#Q10. How do you handle errors in Flask (e.g., 404)\n",
        "\n",
        "from flask import Flask, render_template\n",
        "\n",
        "app = Flask(__name__)\n",
        "\n",
        "@app.route('/')\n",
        "def home():\n",
        "    return \"Welcome to the home page!\"\n",
        "\n",
        "# Custom 404 Error Handler\n",
        "@app.errorhandler(404)\n",
        "def page_not_found(e):\n",
        "    return render_template('404.html'), 404\n",
        "\n",
        "# Custom 500 Error Handler\n",
        "@app.errorhandler(500)\n",
        "def internal_error(e):\n",
        "    return render_template('500.html'), 500\n",
        "\n",
        "if __name__ == '__main__':\n",
        "    app.run(debug=True)\n"
      ],
      "metadata": {
        "colab": {
          "base_uri": "https://localhost:8080/"
        },
        "id": "RbAiYtiFx05n",
        "outputId": "82490a8a-0bb0-4c2a-e634-c0cfa0adaa3b"
      },
      "execution_count": 14,
      "outputs": [
        {
          "output_type": "stream",
          "name": "stdout",
          "text": [
            " * Serving Flask app '__main__'\n",
            " * Debug mode: on\n"
          ]
        },
        {
          "output_type": "stream",
          "name": "stderr",
          "text": [
            "INFO:werkzeug:\u001b[31m\u001b[1mWARNING: This is a development server. Do not use it in a production deployment. Use a production WSGI server instead.\u001b[0m\n",
            " * Running on http://127.0.0.1:5000\n",
            "INFO:werkzeug:\u001b[33mPress CTRL+C to quit\u001b[0m\n",
            "INFO:werkzeug: * Restarting with stat\n"
          ]
        }
      ]
    },
    {
      "cell_type": "code",
      "source": [
        "#Q11. How do you structure a Flask app using Blueprints\n",
        "\n",
        "from flask import Blueprint, render_template\n",
        "\n",
        "blog_bp = Blueprint('blog', __name__, template_folder='templates')\n",
        "\n",
        "@blog_bp.route('/')\n",
        "def blog_home():\n",
        "    return render_template('blog_home.html')"
      ],
      "metadata": {
        "id": "gP67wQ6VyKz8"
      },
      "execution_count": 17,
      "outputs": []
    },
    {
      "cell_type": "code",
      "source": [
        "#Q12 How do you define a custom Jinja filter in Flask\n",
        "\n",
        "from flask import Flask, render_template\n",
        "\n",
        "app = Flask(__name__)\n",
        "\n",
        "def reverse_string(s):\n",
        "    return s[::-1]\n",
        "\n",
        "app.jinja_env.filters['reverse'] = reverse_string\n",
        "\n",
        "@app.route('/')\n",
        "def index():\n",
        "    return render_template('index.html', word='Flask')"
      ],
      "metadata": {
        "id": "KIgTOUIGzFmS"
      },
      "execution_count": 18,
      "outputs": []
    },
    {
      "cell_type": "code",
      "source": [
        "#Q13. How can you redirect with query parameters in Flask\n",
        "\n",
        "from flask import Flask, redirect, url_for, request\n",
        "\n",
        "app = Flask(__name__)\n",
        "\n",
        "@app.route('/')\n",
        "def home():\n",
        "    return redirect(url_for('greet', name='Ravi', age=25))\n",
        "\n",
        "@app.route('/greet')\n",
        "def greet():\n",
        "    name = request.args.get('name')\n",
        "    age = request.args.get('age')\n",
        "    return f\"Hello, {name}! You are {age} years old.\"\n",
        "\n",
        "if __name__ == '__main__':\n",
        "    app.run(debug=True)"
      ],
      "metadata": {
        "colab": {
          "base_uri": "https://localhost:8080/"
        },
        "id": "Snl5ha4ozqwY",
        "outputId": "cb568e91-54dd-4f54-ed74-1c6f04c85029"
      },
      "execution_count": 19,
      "outputs": [
        {
          "output_type": "stream",
          "name": "stdout",
          "text": [
            " * Serving Flask app '__main__'\n",
            " * Debug mode: on\n"
          ]
        },
        {
          "output_type": "stream",
          "name": "stderr",
          "text": [
            "INFO:werkzeug:\u001b[31m\u001b[1mWARNING: This is a development server. Do not use it in a production deployment. Use a production WSGI server instead.\u001b[0m\n",
            " * Running on http://127.0.0.1:5000\n",
            "INFO:werkzeug:\u001b[33mPress CTRL+C to quit\u001b[0m\n",
            "INFO:werkzeug: * Restarting with stat\n"
          ]
        }
      ]
    },
    {
      "cell_type": "code",
      "source": [
        "#Q14 How do you return JSON responses in Flask\n",
        "\n",
        "from flask import Flask, jsonify\n",
        "\n",
        "app = Flask(__name__)\n",
        "\n",
        "@app.route('/api/data')\n",
        "def get_data():\n",
        "    data = {\n",
        "        'name': 'Ravi',\n",
        "        'age': 25,\n",
        "        'country': 'India'\n",
        "    }\n",
        "    return jsonify(data)\n",
        "\n",
        "if __name__ == '__main__':\n",
        "    app.run(debug=True)\n",
        "\n"
      ],
      "metadata": {
        "colab": {
          "base_uri": "https://localhost:8080/"
        },
        "id": "K16qCvYfz4Dw",
        "outputId": "c7db98a0-2675-4e1a-b55d-879458558531"
      },
      "execution_count": 20,
      "outputs": [
        {
          "output_type": "stream",
          "name": "stdout",
          "text": [
            " * Serving Flask app '__main__'\n",
            " * Debug mode: on\n"
          ]
        },
        {
          "output_type": "stream",
          "name": "stderr",
          "text": [
            "INFO:werkzeug:\u001b[31m\u001b[1mWARNING: This is a development server. Do not use it in a production deployment. Use a production WSGI server instead.\u001b[0m\n",
            " * Running on http://127.0.0.1:5000\n",
            "INFO:werkzeug:\u001b[33mPress CTRL+C to quit\u001b[0m\n",
            "INFO:werkzeug: * Restarting with stat\n"
          ]
        }
      ]
    },
    {
      "cell_type": "code",
      "source": [
        "#Q15. How do you capture URL parameters in Flask?\n",
        "\n",
        "from flask import Flask\n",
        "\n",
        "app = Flask(__name__)\n",
        "\n",
        "@app.route('/profile/<username>')\n",
        "def profile(username):\n",
        "    return f\"Welcome to {username}'s profile!\"\n",
        "\n",
        "if __name__ == '__main__':\n",
        "    app.run(debug=True)"
      ],
      "metadata": {
        "colab": {
          "base_uri": "https://localhost:8080/"
        },
        "id": "yx76AmE30G2e",
        "outputId": "7b6d0ffe-882e-4663-ad05-70cc5ec67dfc"
      },
      "execution_count": 21,
      "outputs": [
        {
          "output_type": "stream",
          "name": "stdout",
          "text": [
            " * Serving Flask app '__main__'\n",
            " * Debug mode: on\n"
          ]
        },
        {
          "output_type": "stream",
          "name": "stderr",
          "text": [
            "INFO:werkzeug:\u001b[31m\u001b[1mWARNING: This is a development server. Do not use it in a production deployment. Use a production WSGI server instead.\u001b[0m\n",
            " * Running on http://127.0.0.1:5000\n",
            "INFO:werkzeug:\u001b[33mPress CTRL+C to quit\u001b[0m\n",
            "INFO:werkzeug: * Restarting with stat\n"
          ]
        }
      ]
    }
  ]
}